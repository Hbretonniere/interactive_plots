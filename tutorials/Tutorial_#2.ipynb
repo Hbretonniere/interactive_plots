{
 "cells": [
  {
   "cell_type": "markdown",
   "metadata": {},
   "source": [
    "# In this Notebook  : \n",
    "We are going define classes to have a cleaner implementation and do more complex tasks with the plots.\n",
    "We will have a usefull use of the interaction."
   ]
  },
  {
   "cell_type": "code",
   "execution_count": null,
   "metadata": {},
   "outputs": [],
   "source": [
    "import matplotlib.pyplot as plt\n",
    "import numpy as np\n",
    "%matplotlib notebook"
   ]
  },
  {
   "cell_type": "markdown",
   "metadata": {},
   "source": [
    "###  Class\n",
    "We first define a **class** for the interaction to be cleaner. Doing so, we will be able to **store information**, and do backward actions on the ones which we've done before.\n",
    "\n",
    "We just declare the class, **initialize** it (`__init__`) and define a `__call__` **function**. The **arguments** of the class are just a blank figure and an axe (in this notebook I use matplotlib **subplots** instead of just a figure, which allows more complex plots. (You just need to know that the figure is the canvas, and the axes are the plots inside the canvas.)\n",
    "\n",
    "During the initialisation, we make the figure and the axes a property of the class (`self`), we plot the random plot we used before (see tutorial 1), and we create an empty list (`self.points`), which will store the points we add while clicking. We also link the interactive canvas to a press button action, as we used to. The only difference is that we don't link it to a specific function, but to `self`, which means the `__call__` function.\n",
    "\n",
    "The call function will be called each time we click : it's the equivalent of the function we created in tutorial 1 defining what we wanted to do while interacting. \n",
    "\n",
    "Here, I kept the drawing color interaction. But now that we can store the added points, the left click (or `ctrl` click) will **remove the latest drown point** !\n",
    "\n",
    "# Try it :"
   ]
  },
  {
   "cell_type": "code",
   "execution_count": null,
   "metadata": {},
   "outputs": [],
   "source": [
    "class Interact:\n",
    "    def __init__(self, fig, ax):\n",
    "        self.ax = ax\n",
    "        fig.canvas.mpl_connect('button_press_event', self)\n",
    "        self.plot = plt.scatter(np.random.uniform(0, 10, 10), np.random.uniform(0, 10, 10))\n",
    "        self.points = []\n",
    "\n",
    "    def __call__(self, event):\n",
    "        \n",
    "            click_x = event.xdata\n",
    "            click_y = event.ydata\n",
    "            plt.title(f\"I'm clicking on : (x, y) = ({click_x:.2f}, {click_y:.2f})\")\n",
    "            if (click_x > plt.xlim()[1]/2):\n",
    "                color = 'red'\n",
    "            else:\n",
    "                color = 'blue'\n",
    "            if event.button == 1:\n",
    "                marker = 'o'\n",
    "                self.points.append(self.ax.scatter(event.xdata, event.ydata, marker=marker, c=color))\n",
    "            if event.button == 3:\n",
    "                try:\n",
    "                    self.points[-1].remove()\n",
    "                    self.points.pop(len(self.points)-1)\n",
    "\n",
    "                except IndexError:\n",
    "                    plt.title(\"Ooops, you want to remove a point but \\n there is no more !\")\n",
    "\n",
    "\n",
    "fig, ax = plt.subplots(figsize=(5, 5))\n",
    "interact = Interact(fig, ax)\n"
   ]
  },
  {
   "cell_type": "markdown",
   "metadata": {},
   "source": [
    "### Cool right ?"
   ]
  },
  {
   "cell_type": "markdown",
   "metadata": {},
   "source": [
    "Ok, now that we have the basis and a clean way to work, let's have our first usefull interactive plot.\n",
    "\n",
    "We are going to plot a 2D catalogue (let's play with galaxies, but you can use any table with more than 2 columns). The idea is to have a scatter plot of two of the parameters, and to print the values of an other parameter when clicking to the point of interest.\n",
    "\n",
    "First, lets import the data : "
   ]
  },
  {
   "cell_type": "code",
   "execution_count": null,
   "metadata": {},
   "outputs": [],
   "source": [
    "cat = np.load('../data/Galaxy_catalogue.npy', allow_pickle=True).item()"
   ]
  },
  {
   "cell_type": "markdown",
   "metadata": {},
   "source": [
    "The catalogue is now stored in `cat`. It's a simple dictionnary containing 300 galaxies. For each galaxy (rows), we have 4 parameters (columns) : the magnitude `mag`, the radius and the ellipticity. The magnitude is an indicator of the brightness of a galaxy."
   ]
  },
  {
   "cell_type": "markdown",
   "metadata": {},
   "source": [
    "To do what we want, we first need a function to recognize the data point we are clicking. Don't look to much at the function, it's not the point of the notebook. \n",
    "Just for you to know, the function returns the closest data point to a clicked position on a graph. We will not necessarly need to click exactly on the point, this function will do the job for us. In addition, it returns the index of the corresponding data point, so we can print the other parameters of the galaxy."
   ]
  },
  {
   "cell_type": "code",
   "execution_count": null,
   "metadata": {},
   "outputs": [],
   "source": [
    "from scipy.spatial import KDTree\n",
    "def find_closest_point(coords, cat, p1, p2):\n",
    "    searching_for = np.zeros((1, 2))\n",
    "    searching_for[0, 0] = coords[0]\n",
    "    searching_for[0, 1] = coords[1]\n",
    "\n",
    "    searching_in = np.zeros(((len(cat[next(iter(cat))]), 2)))\n",
    "    searching_in[:, 0] = cat[p1]\n",
    "    searching_in[:, 1] = cat[p2]\n",
    "    _, match_index = KDTree(searching_in).query(searching_for)\n",
    "    closestx, closesty = searching_in[match_index][0]\n",
    "\n",
    "    return match_index[0], closestx, closesty"
   ]
  },
  {
   "cell_type": "markdown",
   "metadata": {},
   "source": [
    "# New Interaction !\n",
    "Well let's do it ! The initialisation plots the radii of the galaxies wrt to their magnitude. Each time you'll click on the plot, the closest corresponding galaxy will be found, and its ellipticity will be printed !\n",
    "\n",
    "# Try it :"
   ]
  },
  {
   "cell_type": "code",
   "execution_count": null,
   "metadata": {},
   "outputs": [],
   "source": [
    "class Explore_catalogue:\n",
    "    def __init__(self, fig, ax, cat, param1='mag', param2='radius', param3='ellipticity'):\n",
    "        self.ax = ax\n",
    "        self.param1 = param1\n",
    "        self.param2 = param2\n",
    "        self.param3 = param3\n",
    "        self.cat = cat\n",
    "        fig.canvas.mpl_connect('button_press_event', self)\n",
    "        ax.scatter(cat[param1], cat[param2])\n",
    "\n",
    "    def __call__(self, event):\n",
    "        if event.button == 1:\n",
    "            click_x = event.xdata\n",
    "            click_y = event.ydata\n",
    "            match_index, closest_x, closest_y = find_closest_point((click_x, click_y), self.cat, self.param1, self.param2)\n",
    "            self.ax.set_title(f\"clicked point : ({click_x:.2f}, {click_y:.2f}) \\n \"+\n",
    "                              f\"closest point : ({closest_x:.2f}, {closest_y:.2f}) \\n\"+\n",
    "                             f\"corresponding ellipticity:{cat[self.param3][match_index]:.2f}\")\n",
    "            \n",
    "fig, ax = plt.subplots(figsize=(5, 5))\n",
    "interact = Explore_catalogue(fig, ax, cat)\n"
   ]
  },
  {
   "cell_type": "markdown",
   "metadata": {},
   "source": [
    "# Can be useful while exploring catalogs right ?\n",
    "Well, of course you could have colorcode the ellipitcity, but you can always do that and use the interaction to print a 4th parameter !\n",
    "\n",
    "Let's add a cool behavior : I want to plot the galaxy of the clicked point next to the scatter plot. Here I'll just use a overly simple toy model to create galaxies (galaxies ?? I doubt it... Don't look at the code please...) parameterized by the magnitude, the radius and ellipticity. What can be cool, with exactly the same code, is to show the images if you have the corresponfing galaxies to your catalogue !\n",
    "\n",
    "Final thing : If you left click anywhere in the plot, it will create a new galaxy with the clicked mag and radius, and a random ellipticity.\n",
    "\n",
    "# Try it :"
   ]
  },
  {
   "cell_type": "code",
   "execution_count": null,
   "metadata": {},
   "outputs": [],
   "source": [
    "def gaussian_model(mag, rad, ell):\n",
    "    rad = rad/2\n",
    "    x, y = np.meshgrid(np.linspace(-32, 32, 64), np.linspace(-32, 32 ,64)) \n",
    "    dst = np.sqrt(x*x+y*y) \n",
    "    sigma = rad/2\n",
    "    muu = 0\n",
    "    \n",
    "    galaxy = np.exp(-( (dst-muu)**2 / ( 2.0 * sigma**2 ) ) ) * 10**(-0.4*(mag-23.5))\n",
    "    \n",
    "    y, x = np.ogrid[-32:32, -32:32]\n",
    "    mask = (x*x)/(rad) + (y*y)/(rad*(1-ell)) > rad\n",
    "    \n",
    "    galaxy[mask] = 0\n",
    "    galaxy += np.random.normal(0, 0.1, (64, 64))\n",
    "    return(galaxy)"
   ]
  },
  {
   "cell_type": "code",
   "execution_count": null,
   "metadata": {},
   "outputs": [],
   "source": [
    "class Explore_catalogue:\n",
    "    def __init__(\n",
    "        self, \n",
    "        fig, \n",
    "        ax, \n",
    "        cat, \n",
    "        param1='mag', \n",
    "        param2='radius', \n",
    "        param3='ellipticity',\n",
    "    ):\n",
    "        \n",
    "        self.plot_cat = ax[0]\n",
    "        self.new_galaxies = []\n",
    "        self.image = ax[1]\n",
    "        self.param1 = param1\n",
    "        self.param2 = param2\n",
    "        self.param3 = param3\n",
    "        self.cat = cat\n",
    "        fig.canvas.mpl_connect('button_press_event', self)\n",
    "        self.sc_plot = self.plot_cat.scatter(cat[param1], cat[param2], s=5, c=\"#1f77b4\")\n",
    "        self.size_data = len(cat[param1])\n",
    "        \n",
    "        # Reserve some space on top for the title\n",
    "        fig.subplots_adjust(top=0.8)\n",
    "\n",
    "    def __call__(self, event):\n",
    "        click_x = event.xdata\n",
    "        click_y = event.ydata\n",
    "        \n",
    "        if event.button == 1:\n",
    "            match_index, closest_x, closest_y = find_closest_point(\n",
    "                (click_x, click_y), \n",
    "                self.cat, \n",
    "                self.param1, \n",
    "                self.param2,\n",
    "            )\n",
    "            \n",
    "            self.plot_cat.set_title(\n",
    "                f\"clicked point: ({click_x:.2f}, {click_y:.2f}) \\n\" +\n",
    "                f\"closest point: ({closest_x:.2f}, {closest_y:.2f}) \\n\" +\n",
    "                f\"corresponding ellipticity: {cat[self.param3][match_index]:.2f}\",\n",
    "            )\n",
    "            \n",
    "            # Give the nearest point the color red\n",
    "            colors = [\"#1f77b4\"] * self.size_data\n",
    "            colors[match_index] = \"red\"\n",
    "            self.sc_plot.set_color(colors)\n",
    "            \n",
    "            self.image.imshow(gaussian_model(\n",
    "                self.cat['mag'][match_index], \n",
    "                self.cat['radius'][match_index], \n",
    "                self.cat['ellipticity'][match_index],\n",
    "            ))\n",
    "        \n",
    "        if event.button == 3:\n",
    "            self.new_galaxies.append(self.plot_cat.scatter(\n",
    "                event.xdata, \n",
    "                event.ydata, \n",
    "                marker='*', \n",
    "                c='red',\n",
    "            ))\n",
    "            \n",
    "            self.plot_cat.set_title(f\"new galaxy : ({click_x:.2f}, {click_y:.2f}) \\n\")\n",
    "            self.image.imshow(gaussian_model(click_x, click_y, np.random.uniform(0,1)))\n",
    "\n",
    "fig, ax = plt.subplots(1, 2, figsize=(7, 3.5))\n",
    "interact = Explore_catalogue(fig, ax, cat)\n"
   ]
  },
  {
   "cell_type": "code",
   "execution_count": null,
   "metadata": {},
   "outputs": [],
   "source": []
  }
 ],
 "metadata": {
  "kernelspec": {
   "display_name": "Python 3",
   "language": "python",
   "name": "python3"
  },
  "language_info": {
   "codemirror_mode": {
    "name": "ipython",
    "version": 3
   },
   "file_extension": ".py",
   "mimetype": "text/x-python",
   "name": "python",
   "nbconvert_exporter": "python",
   "pygments_lexer": "ipython3",
   "version": "3.7.6"
  }
 },
 "nbformat": 4,
 "nbformat_minor": 4
}

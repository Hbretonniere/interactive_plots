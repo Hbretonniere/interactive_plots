{
 "cells": [
  {
   "cell_type": "markdown",
   "metadata": {},
   "source": [
    "# Tutorial number 3 : IpyWidgets\n",
    "In this really short Tutorial, we are going to discover the interactve plots with IpyWidgets.\n",
    "As you will see, it is much simpler than the `event` handling method used in the previous tutorials,\n",
    "but allows one to really great interactions !\n",
    "\n",
    "## So, let's dive in :\n",
    "Let's first import the classic packages"
   ]
  },
  {
   "cell_type": "code",
   "execution_count": 15,
   "metadata": {},
   "outputs": [],
   "source": [
    "import numpy as np\n",
    "import matplotlib.pyplot as plt"
   ]
  },
  {
   "cell_type": "markdown",
   "metadata": {},
   "source": [
    "And now the new one : `ipywidget`, and its `interactive` method :"
   ]
  },
  {
   "cell_type": "code",
   "execution_count": 16,
   "metadata": {},
   "outputs": [],
   "source": [
    "import ipywidgets as widgets\n",
    "from ipywidgets import interactive"
   ]
  },
  {
   "cell_type": "markdown",
   "metadata": {},
   "source": [
    "Let's redefine the (still ugly) 'galaxy' model defined in the tutorial_2. Now, instead of returning the array of the galaxy, it directly plots it"
   ]
  },
  {
   "cell_type": "code",
   "execution_count": 23,
   "metadata": {},
   "outputs": [],
   "source": [
    "def gaussian_model(mag, rad, ell):\n",
    "    \n",
    "    rad = rad/2\n",
    "    x, y = np.meshgrid(np.linspace(-16, 16, 32), np.linspace(-16, 16 ,32)) \n",
    "    dst = np.sqrt(x*x+y*y) \n",
    "    sigma = rad/2\n",
    "    muu = 0\n",
    "    \n",
    "    galaxy = np.exp(-( (dst-muu)**2 / ( 2.0 * sigma**2 ) ) ) * 10**(-0.4*(mag-23.5))\n",
    "    \n",
    "    y, x = np.ogrid[-16:16, -16:16]\n",
    "    mask = (x*x)/(rad) + (y*y)/(rad*(1-ell)) > rad\n",
    "    \n",
    "    galaxy[mask] = 0\n",
    "    galaxy += np.random.normal(0, 0.1, (32, 32))\n",
    "\n",
    "    plt.imshow(galaxy)\n",
    "\n",
    "# Its not commented ? Yeah, I told you not to look at it..."
   ]
  },
  {
   "cell_type": "markdown",
   "metadata": {},
   "source": [
    "Let's try it : we want a big, elliptical and bright galaxy :\n"
   ]
  },
  {
   "cell_type": "code",
   "execution_count": 24,
   "metadata": {},
   "outputs": [
    {
     "data": {
      "image/png": "[encoded data removed]",
      "text/plain": [
       "<Figure size 432x288 with 1 Axes>"
      ]
     },
     "metadata": {
      "needs_background": "light"
     },
     "output_type": "display_data"
    }
   ],
   "source": [
    "gaussian_model(21, 15, 0.8)"
   ]
  },
  {
   "cell_type": "markdown",
   "metadata": {},
   "source": [
    "Now that we know it works, let's try the interactive widget !\n",
    "The idea is to plot some sliding burttons to control the parameters of the function. We are going to create three buttons : one for the magnitude, one for the radius and one for the ellipticity. By linking it to the gaussian_model function, it will call it each time we move a button. This way, we can plot any galaxy we want just by moving some buttons !\n",
    "# Try it :"
   ]
  },
  {
   "cell_type": "code",
   "execution_count": 28,
   "metadata": {},
   "outputs": [
    {
     "data": {
      "application/vnd.jupyter.widget-view+json": {
       "model_id": "9e6eaa628f3641e5b7e6ebd920b829bf",
       "version_major": 2,
       "version_minor": 0
      },
      "text/plain": [
       "interactive(children=(FloatSlider(value=23.0, description='mag', max=26.0, min=20.0), IntSlider(value=15, desc…"
      ]
     },
     "metadata": {},
     "output_type": "display_data"
    }
   ],
   "source": [
    "interactive_plot = interactive(gaussian_model, mag=(20, 26, 0.1), rad=(0, 30, 1), ell=(0, 0.99, 0.03))\n",
    "\n",
    "output = interactive_plot.children[-1]\n",
    "\n",
    "interactive_plot\n"
   ]
  },
  {
   "cell_type": "markdown",
   "metadata": {},
   "source": [
    "# Nice, right ?"
   ]
  },
  {
   "cell_type": "markdown",
   "metadata": {},
   "source": [
    "## Let s look what we've done.\n",
    "the `interactive` method take at least 2 parameters : the function you want to use, and then at least one sliding button. In fact, you need (in addition to the first parameter) as many button as there is parameters in the linked function. You need to give the name of the function params, and then the range and the step you want the parameters to move in. For example, we said that the magnitude parameter `mag` of our `gaussian_model` function should move between 20 and 26, and each increment should ne 0.1.\n",
    "\n",
    "You then just need to indicate the output, and to call the interaction...\n",
    "\n",
    "# Simple right ?\n",
    "This tutorial is under construction, more examples will be added !"
   ]
  },
  {
   "cell_type": "code",
   "execution_count": null,
   "metadata": {},
   "outputs": [],
   "source": []
  }
 ],
 "metadata": {
  "kernelspec": {
   "display_name": "Python 3",
   "language": "python",
   "name": "python3"
  },
  "language_info": {
   "codemirror_mode": {
    "name": "ipython",
    "version": 3
   },
   "file_extension": ".py",
   "mimetype": "text/x-python",
   "name": "python",
   "nbconvert_exporter": "python",
   "pygments_lexer": "ipython3",
   "version": "3.7.5"
  }
 },
 "nbformat": 4,
 "nbformat_minor": 4
}

{
 "cells": [
  {
   "cell_type": "markdown",
   "metadata": {},
   "source": [
    "# Tutorial number 3 : IpyWidgets\n",
    "In this really short Tutorial, we are going to discover the interactve plots with IpyWidgets.\n",
    "As you will see, it is much simpler than the `event` handling method used in the previous tutorials,\n",
    "but allows one to really great interactions !\n",
    "\n",
    "## So, let's dive in :\n",
    "Let's first import the classic packages"
   ]
  },
  {
   "cell_type": "code",
   "execution_count": 1,
   "metadata": {},
   "outputs": [],
   "source": [
    "import numpy as np\n",
    "import matplotlib.pyplot as plt"
   ]
  },
  {
   "cell_type": "markdown",
   "metadata": {},
   "source": [
    "And now the new one : `ipywidget`, and its `interactive` method :"
   ]
  },
  {
   "cell_type": "code",
   "execution_count": 2,
   "metadata": {},
   "outputs": [],
   "source": [
    "import ipywidgets as widgets\n",
    "from ipywidgets import interactive"
   ]
  },
  {
   "cell_type": "markdown",
   "metadata": {},
   "source": [
    "Let's redefine the galaxy model defined in the tutorial 2. Now, instead of returning the array of the galaxy, it directly plots it."
   ]
  },
  {
   "cell_type": "code",
   "execution_count": 21,
   "metadata": {},
   "outputs": [],
   "source": [
    "def sersic_model(mag, rad, ell, n=1):\n",
    "\n",
    "    x, y = np.meshgrid(np.arange(64), np.arange(64))  # create a 64 x 64 array\n",
    "\n",
    "    a = rad / 2  # define the major axis of the galaxy\n",
    "    b = (1-ell) * a  # define the minor axis of the galaxy, by taking into account the ellipticity\n",
    "    \n",
    "    z = np.sqrt(((x-(64/2)) / a) ** 2 + ((y-(64/2)) / b) ** 2)  # define the distance to center\n",
    "    \n",
    "    \n",
    "    galaxy = 10**(-0.4*(mag-23.5)) * np.exp(-(2*n-(1/3)) * (z ** (1 / n) - 1))  # sersic profile\n",
    "    \n",
    "    galaxy = galaxy + np.random.normal(0, 0.25, (64, 64))  # White noise\n",
    "\n",
    "    plt.imshow(galaxy)"
   ]
  },
  {
   "cell_type": "markdown",
   "metadata": {},
   "source": [
    "Let's try it : we want a big, elliptical and bright galaxy :\n"
   ]
  },
  {
   "cell_type": "code",
   "execution_count": 22,
   "metadata": {},
   "outputs": [
    {
     "data": {
      "image/png": "[encoded data removed]",
      "text/plain": [
       "<Figure size 432x288 with 1 Axes>"
      ]
     },
     "metadata": {
      "needs_background": "light"
     },
     "output_type": "display_data"
    }
   ],
   "source": [
    "sersic_model(21, 25, 0.8)"
   ]
  },
  {
   "cell_type": "markdown",
   "metadata": {},
   "source": [
    "### Now that we know it works, let's try the interactive widget !\n",
    "\n",
    "The idea is to plot some sliding buttons to control the parameters of the function. We are going to create four buttons : one for the magnitude, one for the radius one for the ellipticity, and one for the sersic index (which define the steepness of the profile). By linking it to the sersic function, it will call it each time we move a button. This way, we can plot any galaxy we want just by moving some buttons !\n",
    "\n",
    "# Try it :"
   ]
  },
  {
   "cell_type": "code",
   "execution_count": 26,
   "metadata": {},
   "outputs": [
    {
     "data": {
      "application/vnd.jupyter.widget-view+json": {
       "model_id": "3cffdc9764744995ab2e2e72781c7470",
       "version_major": 2,
       "version_minor": 0
      },
      "text/plain": [
       "interactive(children=(FloatSlider(value=23.0, description='mag', max=26.0, min=20.0), IntSlider(value=15, desc…"
      ]
     },
     "metadata": {},
     "output_type": "display_data"
    }
   ],
   "source": [
    "interactive_plot = interactive(sersic_model,\n",
    "                               mag=(20, 26, 0.1),\n",
    "                               rad=(0, 30, 1),\n",
    "                               ell=(0, 0.99, 0.03),\n",
    "                               n=(0.2, 2, 0.3))\n",
    "\n",
    "output = interactive_plot.children[-1]\n",
    "\n",
    "interactive_plot\n"
   ]
  },
  {
   "cell_type": "markdown",
   "metadata": {},
   "source": [
    "# Nice, right ?"
   ]
  },
  {
   "cell_type": "markdown",
   "metadata": {},
   "source": [
    "## Let s look what we've done.\n",
    "the `interactive` method take at least 2 parameters : the function you want to use, and then at least one sliding button. In fact, you need (in addition to the first parameter) as many button as there is parameters in the linked function. You need to give the name of the function params, and then the range and the step you want the parameters to move in. For example, we said that the magnitude parameter `mag` of our `sersic_model` function should move between 20 and 26, and each increment should ne 0.1.\n",
    "\n",
    "You then just need to indicate the output, and to call the interaction...\n",
    "\n",
    "You can see the expected behavior :\n",
    " - The highest the magnitude, the faintest the galaxy\n",
    " - The biggest the radius, the biggest the galaxy\n",
    " - The biggest the ellipticity, the biggest the elongation\n",
    " - The biggest the sersic index n, the steepest the profile\n",
    " \n",
    "# Simple right ?\n",
    "\n",
    "This tutorial is under construction, more examples will be added !"
   ]
  },
  {
   "cell_type": "code",
   "execution_count": null,
   "metadata": {},
   "outputs": [],
   "source": []
  }
 ],
 "metadata": {
  "kernelspec": {
   "display_name": "Python 3",
   "language": "python",
   "name": "python3"
  },
  "language_info": {
   "codemirror_mode": {
    "name": "ipython",
    "version": 3
   },
   "file_extension": ".py",
   "mimetype": "text/x-python",
   "name": "python",
   "nbconvert_exporter": "python",
   "pygments_lexer": "ipython3",
   "version": "3.7.5"
  }
 },
 "nbformat": 4,
 "nbformat_minor": 4
}

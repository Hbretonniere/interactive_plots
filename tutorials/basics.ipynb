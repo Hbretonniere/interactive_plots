{
 "cells": [
  {
   "cell_type": "markdown",
   "metadata": {},
   "source": [
    "# Let's begin the first tutorial on the basic use of the matplotlib event handler !\n",
    "We'll learn how to interact with a matplotlib plot and do things on the plot regarding the type of buttons or the type of action the user is doing inside the figure."
   ]
  },
  {
   "cell_type": "markdown",
   "metadata": {},
   "source": [
    "### Let's import some basics libraries. \n",
    "For this first simple plots, $\\texttt{Numpy}$ and $\\texttt{Matplotlib}$ will be enough"
   ]
  },
  {
   "cell_type": "code",
   "execution_count": null,
   "metadata": {},
   "outputs": [],
   "source": [
    "import matplotlib.pyplot as plt\n",
    "import numpy as np"
   ]
  },
  {
   "cell_type": "markdown",
   "metadata": {},
   "source": [
    "### Matplotlib configuration\n",
    "To make the plot interactive, we must change the plt behavior with the magic `%matplotlib notebook` command. By default in jupyter, matplotlib is static, corresponding to the `%matplotlib inline` command. See the diff :"
   ]
  },
  {
   "cell_type": "code",
   "execution_count": null,
   "metadata": {},
   "outputs": [],
   "source": [
    "plt.figure(figsize=(5, 5))\n",
    "plt.scatter(np.random.uniform(0, 10, 10), np.random.uniform(0, 10, 10))"
   ]
  },
  {
   "cell_type": "markdown",
   "metadata": {},
   "source": [
    "### Note that sometimes the figure is to big. If so, you can reduce it by dragging the bottom left corner of the plot to the center."
   ]
  },
  {
   "cell_type": "code",
   "execution_count": null,
   "metadata": {},
   "outputs": [],
   "source": [
    "%matplotlib notebook\n",
    "plt.figure(figsize=(5, 5))\n",
    "plt.scatter(np.random.uniform(0, 10, 10), np.random.uniform(0, 10, 10));"
   ]
  },
  {
   "cell_type": "markdown",
   "metadata": {},
   "source": [
    "With the plot above, you should be able to have a **first interaction**, like **zooming**, (by drawing a zooming arena using the square button below the figure). You can also see that the **current position** of the mouse is printed in the bottom right corner.\n",
    "\n",
    "Ok that's nice, but we want more interactive plots, in the sense where you can link clicks on the plot to predetermined actions.\n",
    "\n",
    "## Define a clicking interaction function\n",
    "Let's understand a bit how the event class work. First we define the **action we want to do when we click on the plot** : it's the `do_smthg_when_I_click` function. It takes in argument a single argument, called `event`. `event` is a matplotlib class, which will store information about your mouse, like its position, the clicks, etc. Look inside the function. It has two interesting attributes : `xdata` and `ydata`. It's the **position of the mouse**, in graphic coordinates. Because matplotlib does not support interactive printing, I just *print* the clicked coordinates as the title of the figure. (`:.2f` is just here to limit the number of decimals)"
   ]
  },
  {
   "cell_type": "code",
   "execution_count": null,
   "metadata": {},
   "outputs": [],
   "source": [
    "def do_smth_when_I_click(event):\n",
    "    click_x = event.xdata\n",
    "    click_y = event.ydata\n",
    "    plt.title(f\"I'm clicking on : (x, y) = ({click_x:.2f}, {click_y:.2f})\")"
   ]
  },
  {
   "cell_type": "markdown",
   "metadata": {},
   "source": [
    "Now, I need to call this function, and to **link** the `event` to a specific plot. This is done by using the properties of $\\texttt{Matplotlib}$ figures, ie `.canevas` and `.mpl_connect`. The latter allows to connect a user mouse behavior (here `button_press_event`) to the function we want (here `do_smthg_when_I_click`).\n",
    "So now, our random scatter is plotted on the figure called `fig`, which is made interactive thanks to `fig.canvas.mpl_connect`.\n",
    "## Try it : \n",
    "you should see the title of the figure evolve when clicking on the plot."
   ]
  },
  {
   "cell_type": "code",
   "execution_count": null,
   "metadata": {},
   "outputs": [],
   "source": [
    "fig = plt.figure(figsize=(5, 5))\n",
    "plt.scatter(np.random.uniform(0, 10, 10), np.random.uniform(0, 10, 10))\n",
    "\n",
    "fig.canvas.mpl_connect('button_press_event', do_smth_when_I_click)"
   ]
  },
  {
   "cell_type": "markdown",
   "metadata": {},
   "source": [
    "### Good !\n",
    "Now let's try to complexify a bit our function. What if we added points to our scatter where we click ? I just call the `scatter` method on the position where I'm clicking. In plt, the basic behavior of the figure is to continue plotting in the same plot."
   ]
  },
  {
   "cell_type": "code",
   "execution_count": null,
   "metadata": {},
   "outputs": [],
   "source": [
    "def plot_new_points(event):\n",
    "    click_x = event.xdata\n",
    "    click_y = event.ydata\n",
    "    plt.title(f\"I'm clicking on : (x, y) = ({click_x:.2f}, {click_y:.2f})\")\n",
    "    plt.scatter(event.xdata, event.ydata)"
   ]
  },
  {
   "cell_type": "code",
   "execution_count": null,
   "metadata": {},
   "outputs": [],
   "source": [
    "fig = plt.figure(figsize=(5, 5))\n",
    "plt.scatter(np.random.uniform(0, 10, 10), np.random.uniform(0, 10, 10))\n",
    "\n",
    "fig.canvas.mpl_connect('button_press_event', plot_new_points)\n"
   ]
  },
  {
   "cell_type": "markdown",
   "metadata": {},
   "source": [
    "### That's pretty ! "
   ]
  },
  {
   "cell_type": "markdown",
   "metadata": {},
   "source": [
    "Now, we'll continue our exploration with another interesting behaviour : `event` can also recognize the **difference between a right click and a left click** (`ctrl click` should work if you don't have a mouse).\n",
    "### Try It ! \n",
    "Right click and left click on the plot"
   ]
  },
  {
   "cell_type": "code",
   "execution_count": null,
   "metadata": {},
   "outputs": [],
   "source": [
    "def plot_new_points(event):\n",
    "    click_x = event.xdata\n",
    "    click_y = event.ydata\n",
    "    plt.title(f\"I'm clicking on : (x, y) = ({click_x:.2f}, {click_y:.2f})\")\n",
    "    if (click_x > plt.xlim()[1]/2):\n",
    "        color = 'red'\n",
    "    else:\n",
    "        color = 'blue'\n",
    "    if event.button == 1:\n",
    "        marker = 'o'\n",
    "    if event.button == 3:\n",
    "        marker = '*'\n",
    "    plt.scatter(event.xdata, event.ydata, marker=marker, c=color)\n",
    "    \n",
    "fig = plt.figure(figsize=(5, 5))\n",
    "plt.scatter(np.random.uniform(0, 10, 10), np.random.uniform(0, 10, 10))\n",
    "\n",
    "fig.canvas.mpl_connect('button_press_event', plot_new_points)\n"
   ]
  },
  {
   "cell_type": "markdown",
   "metadata": {},
   "source": [
    "### Look what we've done : \n",
    "The type of click is stored in the `button` method of `event`. We have just changed the marker style depending if we are right clicking (`button == 1`) or left clicking (`button == 3`). We've also played a bit with the `xdata` method to change the color of the point regarding the position we clicked.\n",
    "\n",
    "There are other types of click (double clicking, scrolling up or scrolling down), but they are unfortunatly unavailable on jupyter notebook. We'll go trough them on other tutorials using ipython or any python interpreter."
   ]
  },
  {
   "cell_type": "markdown",
   "metadata": {},
   "source": [
    "### Let's learn a last thing in this basic tutorial !\n",
    "We've seen earlier that the `canvas`' `mpl_connect` method has an `'button_press_event'` argument. Well, it can also detects other behaviours, like the release of a click, the movement onto the figure or even detects when you leave the figure.\n",
    "### Try it : click and hold, release, move your mouse, leave the figure !"
   ]
  },
  {
   "cell_type": "code",
   "execution_count": null,
   "metadata": {
    "scrolled": true
   },
   "outputs": [],
   "source": [
    "def press(event):\n",
    "    plt.title(\"I'm clicking !\")\n",
    "\n",
    "def release(event):    \n",
    "    plt.title(\"I'm releasing !\")\n",
    "\n",
    "def moving(event):    \n",
    "    plt.title(\"Woooow I'm mooving !\")\n",
    "\n",
    "def leave_figure(event):    \n",
    "    plt.title(\"Woooops I've left the figure !\")\n",
    "    \n",
    "# def enter_axes(event):    \n",
    "#     plt.title(\"Woooops You have left the plot !\")\n",
    "\n",
    "fig = plt.figure(figsize=(5, 5))\n",
    "plt.scatter(np.random.uniform(0, 10, 10), np.random.uniform(0, 10, 10))\n",
    "\n",
    "fig.canvas.mpl_connect('button_press_event', press)\n",
    "fig.canvas.mpl_connect('button_release_event', release)\n",
    "fig.canvas.mpl_connect('motion_notify_event', moving)\n",
    "fig.canvas.mpl_connect('figure_leave_event', leave_figure)"
   ]
  },
  {
   "cell_type": "markdown",
   "metadata": {},
   "source": [
    "### Look what we've done : \n",
    "We just need to link different functions to different arguments of the `mpl_connect` method : `'button_press_event'` linked to what we do when we click, `'motion_notify_event'` linked to what we do when we move, etc.\n",
    "We can also use `'figure_enter_event'` or even specify actions when we leave the axes of the plot with `'axes_enter_event'` and `'axes_enter_event'`"
   ]
  },
  {
   "cell_type": "markdown",
   "metadata": {},
   "source": [
    "### Here we are for our first tutorial on matplotlib interactive events !\n",
    "You can see with the type of button and the type of action, you can have a lot of combination and do whatever you want !\n",
    "In the next tutorial, we'll define classes which link different behaviour and store in memory the actions to interact even more interestingly with the plots."
   ]
  },
  {
   "cell_type": "markdown",
   "metadata": {},
   "source": [
    "### If you want to explore more the interactive plot yourself, be careful of one thing. If you have an error inside the action function, it will not print in the Jupyter Cell, but in the terminal were you have open your jupyter notebook !"
   ]
  }
 ],
 "metadata": {
  "kernelspec": {
   "display_name": "Python 3",
   "language": "python",
   "name": "python3"
  },
  "language_info": {
   "codemirror_mode": {
    "name": "ipython",
    "version": 3
   },
   "file_extension": ".py",
   "mimetype": "text/x-python",
   "name": "python",
   "nbconvert_exporter": "python",
   "pygments_lexer": "ipython3",
   "version": "3.7.5"
  }
 },
 "nbformat": 4,
 "nbformat_minor": 2
}
